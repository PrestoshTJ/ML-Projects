{
  "nbformat": 4,
  "nbformat_minor": 0,
  "metadata": {
    "colab": {
      "provenance": [],
      "authorship_tag": "ABX9TyN+rMvX0F1tqycJASBux/xu",
      "include_colab_link": true
    },
    "kernelspec": {
      "name": "python3",
      "display_name": "Python 3"
    },
    "language_info": {
      "name": "python"
    }
  },
  "cells": [
    {
      "cell_type": "markdown",
      "metadata": {
        "id": "view-in-github",
        "colab_type": "text"
      },
      "source": [
        "<a href=\"https://colab.research.google.com/github/PrestoshTJ/ML-Projects/blob/main/Neural.ipynb\" target=\"_parent\"><img src=\"https://colab.research.google.com/assets/colab-badge.svg\" alt=\"Open In Colab\"/></a>"
      ]
    },
    {
      "cell_type": "code",
      "source": [
        "! pip3 install torch torchvision matplotlib"
      ],
      "metadata": {
        "colab": {
          "base_uri": "https://localhost:8080/"
        },
        "id": "I1kbnA6byBcr",
        "outputId": "a458f987-3a75-4607-a8a8-80c530621bd2"
      },
      "execution_count": null,
      "outputs": [
        {
          "output_type": "stream",
          "name": "stdout",
          "text": [
            "Requirement already satisfied: torch in /usr/local/lib/python3.10/dist-packages (2.5.1+cu121)\n",
            "Requirement already satisfied: torchvision in /usr/local/lib/python3.10/dist-packages (0.20.1+cu121)\n",
            "Requirement already satisfied: matplotlib in /usr/local/lib/python3.10/dist-packages (3.8.0)\n",
            "Requirement already satisfied: filelock in /usr/local/lib/python3.10/dist-packages (from torch) (3.16.1)\n",
            "Requirement already satisfied: typing-extensions>=4.8.0 in /usr/local/lib/python3.10/dist-packages (from torch) (4.12.2)\n",
            "Requirement already satisfied: networkx in /usr/local/lib/python3.10/dist-packages (from torch) (3.4.2)\n",
            "Requirement already satisfied: jinja2 in /usr/local/lib/python3.10/dist-packages (from torch) (3.1.4)\n",
            "Requirement already satisfied: fsspec in /usr/local/lib/python3.10/dist-packages (from torch) (2024.10.0)\n",
            "Requirement already satisfied: sympy==1.13.1 in /usr/local/lib/python3.10/dist-packages (from torch) (1.13.1)\n",
            "Requirement already satisfied: mpmath<1.4,>=1.1.0 in /usr/local/lib/python3.10/dist-packages (from sympy==1.13.1->torch) (1.3.0)\n",
            "Requirement already satisfied: numpy in /usr/local/lib/python3.10/dist-packages (from torchvision) (1.26.4)\n",
            "Requirement already satisfied: pillow!=8.3.*,>=5.3.0 in /usr/local/lib/python3.10/dist-packages (from torchvision) (11.0.0)\n",
            "Requirement already satisfied: contourpy>=1.0.1 in /usr/local/lib/python3.10/dist-packages (from matplotlib) (1.3.1)\n",
            "Requirement already satisfied: cycler>=0.10 in /usr/local/lib/python3.10/dist-packages (from matplotlib) (0.12.1)\n",
            "Requirement already satisfied: fonttools>=4.22.0 in /usr/local/lib/python3.10/dist-packages (from matplotlib) (4.54.1)\n",
            "Requirement already satisfied: kiwisolver>=1.0.1 in /usr/local/lib/python3.10/dist-packages (from matplotlib) (1.4.7)\n",
            "Requirement already satisfied: packaging>=20.0 in /usr/local/lib/python3.10/dist-packages (from matplotlib) (24.2)\n",
            "Requirement already satisfied: pyparsing>=2.3.1 in /usr/local/lib/python3.10/dist-packages (from matplotlib) (3.2.0)\n",
            "Requirement already satisfied: python-dateutil>=2.7 in /usr/local/lib/python3.10/dist-packages (from matplotlib) (2.8.2)\n",
            "Requirement already satisfied: six>=1.5 in /usr/local/lib/python3.10/dist-packages (from python-dateutil>=2.7->matplotlib) (1.16.0)\n",
            "Requirement already satisfied: MarkupSafe>=2.0 in /usr/local/lib/python3.10/dist-packages (from jinja2->torch) (3.0.2)\n"
          ]
        }
      ]
    },
    {
      "cell_type": "code",
      "execution_count": 2,
      "metadata": {
        "id": "oSfZeq5Rxalv"
      },
      "outputs": [],
      "source": [
        "from torchvision import datasets\n",
        "from torchvision.transforms import ToTensor\n",
        "from torch.utils.data import DataLoader\n",
        "import torch.nn as nn\n",
        "import torch.nn.functional as F\n",
        "import torch.optim as optim\n",
        "import torch as torch"
      ]
    },
    {
      "cell_type": "code",
      "source": [],
      "metadata": {
        "id": "MXk2il_y1BlD"
      },
      "execution_count": null,
      "outputs": []
    },
    {
      "cell_type": "code",
      "source": [
        "train_data = datasets.MNIST(root = 'data', train = True, transform = ToTensor(), download = True)\n",
        "test_data = datasets.MNIST(root = 'data', train = False, transform = ToTensor(), download = True)"
      ],
      "metadata": {
        "id": "_FmHiJOoyYf_",
        "colab": {
          "base_uri": "https://localhost:8080/"
        },
        "outputId": "52363183-1dd3-4194-a600-c11b2f218032"
      },
      "execution_count": 4,
      "outputs": [
        {
          "output_type": "stream",
          "name": "stdout",
          "text": [
            "Downloading http://yann.lecun.com/exdb/mnist/train-images-idx3-ubyte.gz\n",
            "Failed to download (trying next):\n",
            "HTTP Error 403: Forbidden\n",
            "\n",
            "Downloading https://ossci-datasets.s3.amazonaws.com/mnist/train-images-idx3-ubyte.gz\n",
            "Downloading https://ossci-datasets.s3.amazonaws.com/mnist/train-images-idx3-ubyte.gz to data/MNIST/raw/train-images-idx3-ubyte.gz\n"
          ]
        },
        {
          "output_type": "stream",
          "name": "stderr",
          "text": [
            "100%|██████████| 9.91M/9.91M [00:00<00:00, 53.5MB/s]\n"
          ]
        },
        {
          "output_type": "stream",
          "name": "stdout",
          "text": [
            "Extracting data/MNIST/raw/train-images-idx3-ubyte.gz to data/MNIST/raw\n",
            "\n",
            "Downloading http://yann.lecun.com/exdb/mnist/train-labels-idx1-ubyte.gz\n",
            "Failed to download (trying next):\n",
            "HTTP Error 403: Forbidden\n",
            "\n",
            "Downloading https://ossci-datasets.s3.amazonaws.com/mnist/train-labels-idx1-ubyte.gz\n",
            "Downloading https://ossci-datasets.s3.amazonaws.com/mnist/train-labels-idx1-ubyte.gz to data/MNIST/raw/train-labels-idx1-ubyte.gz\n"
          ]
        },
        {
          "output_type": "stream",
          "name": "stderr",
          "text": [
            "100%|██████████| 28.9k/28.9k [00:00<00:00, 1.69MB/s]"
          ]
        },
        {
          "output_type": "stream",
          "name": "stdout",
          "text": [
            "Extracting data/MNIST/raw/train-labels-idx1-ubyte.gz to data/MNIST/raw\n",
            "\n",
            "Downloading http://yann.lecun.com/exdb/mnist/t10k-images-idx3-ubyte.gz\n"
          ]
        },
        {
          "output_type": "stream",
          "name": "stderr",
          "text": [
            "\n"
          ]
        },
        {
          "output_type": "stream",
          "name": "stdout",
          "text": [
            "Failed to download (trying next):\n",
            "HTTP Error 403: Forbidden\n",
            "\n",
            "Downloading https://ossci-datasets.s3.amazonaws.com/mnist/t10k-images-idx3-ubyte.gz\n",
            "Downloading https://ossci-datasets.s3.amazonaws.com/mnist/t10k-images-idx3-ubyte.gz to data/MNIST/raw/t10k-images-idx3-ubyte.gz\n"
          ]
        },
        {
          "output_type": "stream",
          "name": "stderr",
          "text": [
            "100%|██████████| 1.65M/1.65M [00:00<00:00, 11.4MB/s]\n"
          ]
        },
        {
          "output_type": "stream",
          "name": "stdout",
          "text": [
            "Extracting data/MNIST/raw/t10k-images-idx3-ubyte.gz to data/MNIST/raw\n",
            "\n",
            "Downloading http://yann.lecun.com/exdb/mnist/t10k-labels-idx1-ubyte.gz\n",
            "Failed to download (trying next):\n",
            "HTTP Error 403: Forbidden\n",
            "\n",
            "Downloading https://ossci-datasets.s3.amazonaws.com/mnist/t10k-labels-idx1-ubyte.gz\n",
            "Downloading https://ossci-datasets.s3.amazonaws.com/mnist/t10k-labels-idx1-ubyte.gz to data/MNIST/raw/t10k-labels-idx1-ubyte.gz\n"
          ]
        },
        {
          "output_type": "stream",
          "name": "stderr",
          "text": [
            "100%|██████████| 4.54k/4.54k [00:00<00:00, 8.75MB/s]"
          ]
        },
        {
          "output_type": "stream",
          "name": "stdout",
          "text": [
            "Extracting data/MNIST/raw/t10k-labels-idx1-ubyte.gz to data/MNIST/raw\n",
            "\n"
          ]
        },
        {
          "output_type": "stream",
          "name": "stderr",
          "text": [
            "\n"
          ]
        }
      ]
    },
    {
      "cell_type": "code",
      "source": [
        "data_loaders = {\n",
        "    'train': DataLoader(train_data, batch_size = 100, shuffle = True, num_workers = 1),\n",
        "    'test': DataLoader(test_data, batch_size = 100, shuffle = True, num_workers = 1)\n",
        "}"
      ],
      "metadata": {
        "id": "eGb3dxYFy5fE"
      },
      "execution_count": 5,
      "outputs": []
    },
    {
      "cell_type": "code",
      "source": [
        "class CNN(nn.Module):\n",
        "  def __init__(self):\n",
        "    super(CNN, self).__init__()\n",
        "    self.conv1 = nn.Conv2d(1, 10, kernel_size=5)\n",
        "    self.conv2 = nn.Conv2d(10,20,kernel_size=5)\n",
        "    self.conv2_drop = nn.Dropout2d()\n",
        "    self.fc1 = nn.Linear(320,50)\n",
        "    self.fc2 = nn.Linear(50,10)\n",
        "\n",
        "  def forward(self, x):\n",
        "    x = F.relu(F.max_pool2d(self.conv1(x), 2))\n",
        "    x = F.relu(F.max_pool2d(self.conv2_drop(self.conv2(x)), 2))\n",
        "    x = x.view(-1, 320)\n",
        "    x = F.relu(self.fc1(x))\n",
        "    x = F.dropout(x, training = self.training)\n",
        "    x = self.fc2(x)\n",
        "\n",
        "    return F.softmax(x)"
      ],
      "metadata": {
        "id": "vWykZQZNzgwL"
      },
      "execution_count": 6,
      "outputs": []
    },
    {
      "cell_type": "code",
      "source": [
        "device = torch.device('cuda' if torch.cuda.is_available() else 'cpu')\n",
        "model = CNN().to(device)\n",
        "optimizer = optim.Adam(model.parameters(), lr = 0.001)\n",
        "loss_fn = nn.CrossEntropyLoss()\n",
        "def train(epoch):\n",
        "  model.train()\n",
        "  for batch_idx, (data, target) in enumerate(data_loaders['train']):\n",
        "    data, target = data.to(device), target.to(device)\n",
        "    optimizer.zero_grad()\n",
        "    output = model(data)\n",
        "    loss = loss_fn(output, target)\n",
        "    loss.backward()\n",
        "    optimizer.step()\n",
        "    if batch_idx % 20 == 0:\n",
        "      print(f\"Train epoch: {epoch} [{batch_idx * len(data)}/{len(data_loaders['train'].dataset)} ({100. * batch_idx / len(data_loaders['train']):.0f}%)]\\t{loss.item():.6f}\")\n",
        "\n",
        "def test():\n",
        "  model.eval()\n",
        "  test_loss = 0\n",
        "  correct = 0\n",
        "  with torch.no_grad():\n",
        "    for data, target in data_loaders['test']:\n",
        "      data, target = data.to(device), target.to(device)\n",
        "      output = model(data)\n",
        "      test_loss += loss_fn(output, target).item()\n",
        "      pred = output.argmax(dim=1, keepdim=True)\n",
        "      correct += pred.eq(target.view_as(pred)).sum().item()\n",
        "  test_loss /= len(data_loaders['test'].dataset)\n",
        "  print(f\"\\nTest set: Average loss: {test_loss: .4f}, Accuracy {correct}/{len(data_loaders['test'].dataset)} ({100. * correct / len(data_loaders['test'].dataset):.0f}%\\n)\")\n"
      ],
      "metadata": {
        "id": "HH50hbOQ1EaE"
      },
      "execution_count": 12,
      "outputs": []
    },
    {
      "cell_type": "code",
      "source": [
        "for epoch in range(1, 11):\n",
        "  train(epoch)\n",
        "  test()"
      ],
      "metadata": {
        "colab": {
          "base_uri": "https://localhost:8080/"
        },
        "id": "bFGSNoEeyKzj",
        "outputId": "e96b9b24-5a9a-4c89-b6bc-46736f0036b5"
      },
      "execution_count": 13,
      "outputs": [
        {
          "output_type": "stream",
          "name": "stderr",
          "text": [
            "<ipython-input-6-da121ee6bd6c>:18: UserWarning: Implicit dimension choice for softmax has been deprecated. Change the call to include dim=X as an argument.\n",
            "  return F.softmax(x)\n"
          ]
        },
        {
          "output_type": "stream",
          "name": "stdout",
          "text": [
            "Train epoch: 1 [0/60000 (0%)]\t2.302468\n",
            "Train epoch: 1 [2000/60000 (3%)]\t2.258146\n",
            "Train epoch: 1 [4000/60000 (7%)]\t2.138988\n",
            "Train epoch: 1 [6000/60000 (10%)]\t1.977746\n",
            "Train epoch: 1 [8000/60000 (13%)]\t1.890356\n",
            "Train epoch: 1 [10000/60000 (17%)]\t1.802193\n",
            "Train epoch: 1 [12000/60000 (20%)]\t1.889119\n",
            "Train epoch: 1 [14000/60000 (23%)]\t1.795532\n",
            "Train epoch: 1 [16000/60000 (27%)]\t1.818212\n",
            "Train epoch: 1 [18000/60000 (30%)]\t1.702057\n",
            "Train epoch: 1 [20000/60000 (33%)]\t1.770034\n",
            "Train epoch: 1 [22000/60000 (37%)]\t1.707990\n",
            "Train epoch: 1 [24000/60000 (40%)]\t1.787673\n",
            "Train epoch: 1 [26000/60000 (43%)]\t1.742944\n",
            "Train epoch: 1 [28000/60000 (47%)]\t1.714008\n",
            "Train epoch: 1 [30000/60000 (50%)]\t1.678519\n",
            "Train epoch: 1 [32000/60000 (53%)]\t1.672895\n",
            "Train epoch: 1 [34000/60000 (57%)]\t1.661846\n",
            "Train epoch: 1 [36000/60000 (60%)]\t1.643428\n",
            "Train epoch: 1 [38000/60000 (63%)]\t1.676755\n",
            "Train epoch: 1 [40000/60000 (67%)]\t1.651562\n",
            "Train epoch: 1 [42000/60000 (70%)]\t1.618709\n",
            "Train epoch: 1 [44000/60000 (73%)]\t1.660782\n",
            "Train epoch: 1 [46000/60000 (77%)]\t1.671778\n",
            "Train epoch: 1 [48000/60000 (80%)]\t1.636614\n",
            "Train epoch: 1 [50000/60000 (83%)]\t1.640945\n",
            "Train epoch: 1 [52000/60000 (87%)]\t1.631430\n",
            "Train epoch: 1 [54000/60000 (90%)]\t1.670582\n",
            "Train epoch: 1 [56000/60000 (93%)]\t1.610193\n",
            "Train epoch: 1 [58000/60000 (97%)]\t1.640224\n",
            "\n",
            "Test set: Average loss:  0.0155, Accuracy 9174/10000 (92%\n",
            ")\n",
            "Train epoch: 2 [0/60000 (0%)]\t1.623938\n",
            "Train epoch: 2 [2000/60000 (3%)]\t1.621727\n",
            "Train epoch: 2 [4000/60000 (7%)]\t1.589356\n",
            "Train epoch: 2 [6000/60000 (10%)]\t1.651987\n",
            "Train epoch: 2 [8000/60000 (13%)]\t1.690874\n",
            "Train epoch: 2 [10000/60000 (17%)]\t1.598711\n",
            "Train epoch: 2 [12000/60000 (20%)]\t1.634194\n",
            "Train epoch: 2 [14000/60000 (23%)]\t1.633445\n",
            "Train epoch: 2 [16000/60000 (27%)]\t1.580945\n",
            "Train epoch: 2 [18000/60000 (30%)]\t1.586631\n",
            "Train epoch: 2 [20000/60000 (33%)]\t1.616409\n",
            "Train epoch: 2 [22000/60000 (37%)]\t1.553985\n",
            "Train epoch: 2 [24000/60000 (40%)]\t1.591996\n",
            "Train epoch: 2 [26000/60000 (43%)]\t1.586507\n",
            "Train epoch: 2 [28000/60000 (47%)]\t1.616182\n",
            "Train epoch: 2 [30000/60000 (50%)]\t1.606718\n",
            "Train epoch: 2 [32000/60000 (53%)]\t1.656015\n",
            "Train epoch: 2 [34000/60000 (57%)]\t1.561530\n",
            "Train epoch: 2 [36000/60000 (60%)]\t1.637486\n",
            "Train epoch: 2 [38000/60000 (63%)]\t1.626427\n",
            "Train epoch: 2 [40000/60000 (67%)]\t1.580965\n",
            "Train epoch: 2 [42000/60000 (70%)]\t1.652035\n",
            "Train epoch: 2 [44000/60000 (73%)]\t1.571991\n",
            "Train epoch: 2 [46000/60000 (77%)]\t1.557525\n",
            "Train epoch: 2 [48000/60000 (80%)]\t1.565466\n",
            "Train epoch: 2 [50000/60000 (83%)]\t1.566458\n",
            "Train epoch: 2 [52000/60000 (87%)]\t1.609831\n",
            "Train epoch: 2 [54000/60000 (90%)]\t1.510312\n",
            "Train epoch: 2 [56000/60000 (93%)]\t1.605561\n",
            "Train epoch: 2 [58000/60000 (97%)]\t1.619553\n",
            "\n",
            "Test set: Average loss:  0.0152, Accuracy 9451/10000 (95%\n",
            ")\n",
            "Train epoch: 3 [0/60000 (0%)]\t1.575491\n",
            "Train epoch: 3 [2000/60000 (3%)]\t1.579296\n",
            "Train epoch: 3 [4000/60000 (7%)]\t1.564478\n",
            "Train epoch: 3 [6000/60000 (10%)]\t1.583353\n",
            "Train epoch: 3 [8000/60000 (13%)]\t1.523504\n",
            "Train epoch: 3 [10000/60000 (17%)]\t1.549909\n",
            "Train epoch: 3 [12000/60000 (20%)]\t1.530253\n",
            "Train epoch: 3 [14000/60000 (23%)]\t1.558705\n",
            "Train epoch: 3 [16000/60000 (27%)]\t1.544762\n",
            "Train epoch: 3 [18000/60000 (30%)]\t1.570764\n",
            "Train epoch: 3 [20000/60000 (33%)]\t1.541895\n",
            "Train epoch: 3 [22000/60000 (37%)]\t1.540851\n",
            "Train epoch: 3 [24000/60000 (40%)]\t1.572170\n",
            "Train epoch: 3 [26000/60000 (43%)]\t1.588100\n",
            "Train epoch: 3 [28000/60000 (47%)]\t1.618365\n",
            "Train epoch: 3 [30000/60000 (50%)]\t1.601753\n",
            "Train epoch: 3 [32000/60000 (53%)]\t1.542170\n",
            "Train epoch: 3 [34000/60000 (57%)]\t1.552055\n",
            "Train epoch: 3 [36000/60000 (60%)]\t1.550336\n",
            "Train epoch: 3 [38000/60000 (63%)]\t1.554682\n",
            "Train epoch: 3 [40000/60000 (67%)]\t1.597202\n",
            "Train epoch: 3 [42000/60000 (70%)]\t1.548312\n",
            "Train epoch: 3 [44000/60000 (73%)]\t1.569492\n",
            "Train epoch: 3 [46000/60000 (77%)]\t1.640765\n",
            "Train epoch: 3 [48000/60000 (80%)]\t1.607398\n",
            "Train epoch: 3 [50000/60000 (83%)]\t1.567231\n",
            "Train epoch: 3 [52000/60000 (87%)]\t1.489293\n",
            "Train epoch: 3 [54000/60000 (90%)]\t1.531074\n",
            "Train epoch: 3 [56000/60000 (93%)]\t1.562181\n",
            "Train epoch: 3 [58000/60000 (97%)]\t1.533825\n",
            "\n",
            "Test set: Average loss:  0.0151, Accuracy 9556/10000 (96%\n",
            ")\n",
            "Train epoch: 4 [0/60000 (0%)]\t1.544419\n",
            "Train epoch: 4 [2000/60000 (3%)]\t1.518740\n",
            "Train epoch: 4 [4000/60000 (7%)]\t1.554837\n",
            "Train epoch: 4 [6000/60000 (10%)]\t1.552623\n",
            "Train epoch: 4 [8000/60000 (13%)]\t1.546243\n",
            "Train epoch: 4 [10000/60000 (17%)]\t1.573480\n",
            "Train epoch: 4 [12000/60000 (20%)]\t1.533674\n",
            "Train epoch: 4 [14000/60000 (23%)]\t1.561773\n",
            "Train epoch: 4 [16000/60000 (27%)]\t1.598531\n",
            "Train epoch: 4 [18000/60000 (30%)]\t1.617969\n",
            "Train epoch: 4 [20000/60000 (33%)]\t1.584216\n",
            "Train epoch: 4 [22000/60000 (37%)]\t1.590929\n",
            "Train epoch: 4 [24000/60000 (40%)]\t1.561542\n",
            "Train epoch: 4 [26000/60000 (43%)]\t1.547410\n",
            "Train epoch: 4 [28000/60000 (47%)]\t1.608052\n",
            "Train epoch: 4 [30000/60000 (50%)]\t1.566542\n",
            "Train epoch: 4 [32000/60000 (53%)]\t1.538732\n",
            "Train epoch: 4 [34000/60000 (57%)]\t1.594984\n",
            "Train epoch: 4 [36000/60000 (60%)]\t1.544508\n",
            "Train epoch: 4 [38000/60000 (63%)]\t1.522452\n",
            "Train epoch: 4 [40000/60000 (67%)]\t1.574525\n",
            "Train epoch: 4 [42000/60000 (70%)]\t1.582315\n",
            "Train epoch: 4 [44000/60000 (73%)]\t1.578013\n",
            "Train epoch: 4 [46000/60000 (77%)]\t1.543567\n",
            "Train epoch: 4 [48000/60000 (80%)]\t1.585842\n",
            "Train epoch: 4 [50000/60000 (83%)]\t1.586117\n",
            "Train epoch: 4 [52000/60000 (87%)]\t1.535010\n",
            "Train epoch: 4 [54000/60000 (90%)]\t1.550444\n",
            "Train epoch: 4 [56000/60000 (93%)]\t1.569741\n",
            "Train epoch: 4 [58000/60000 (97%)]\t1.574432\n",
            "\n",
            "Test set: Average loss:  0.0150, Accuracy 9619/10000 (96%\n",
            ")\n",
            "Train epoch: 5 [0/60000 (0%)]\t1.511562\n",
            "Train epoch: 5 [2000/60000 (3%)]\t1.553472\n",
            "Train epoch: 5 [4000/60000 (7%)]\t1.518115\n",
            "Train epoch: 5 [6000/60000 (10%)]\t1.563065\n",
            "Train epoch: 5 [8000/60000 (13%)]\t1.578168\n",
            "Train epoch: 5 [10000/60000 (17%)]\t1.551825\n",
            "Train epoch: 5 [12000/60000 (20%)]\t1.600161\n",
            "Train epoch: 5 [14000/60000 (23%)]\t1.539975\n",
            "Train epoch: 5 [16000/60000 (27%)]\t1.572637\n",
            "Train epoch: 5 [18000/60000 (30%)]\t1.522486\n",
            "Train epoch: 5 [20000/60000 (33%)]\t1.560100\n",
            "Train epoch: 5 [22000/60000 (37%)]\t1.548552\n",
            "Train epoch: 5 [24000/60000 (40%)]\t1.533683\n",
            "Train epoch: 5 [26000/60000 (43%)]\t1.526634\n",
            "Train epoch: 5 [28000/60000 (47%)]\t1.528274\n",
            "Train epoch: 5 [30000/60000 (50%)]\t1.567958\n",
            "Train epoch: 5 [32000/60000 (53%)]\t1.520345\n",
            "Train epoch: 5 [34000/60000 (57%)]\t1.512384\n",
            "Train epoch: 5 [36000/60000 (60%)]\t1.607195\n",
            "Train epoch: 5 [38000/60000 (63%)]\t1.545652\n",
            "Train epoch: 5 [40000/60000 (67%)]\t1.527853\n",
            "Train epoch: 5 [42000/60000 (70%)]\t1.559241\n",
            "Train epoch: 5 [44000/60000 (73%)]\t1.557613\n",
            "Train epoch: 5 [46000/60000 (77%)]\t1.551191\n",
            "Train epoch: 5 [48000/60000 (80%)]\t1.540450\n",
            "Train epoch: 5 [50000/60000 (83%)]\t1.526647\n",
            "Train epoch: 5 [52000/60000 (87%)]\t1.513192\n",
            "Train epoch: 5 [54000/60000 (90%)]\t1.557266\n",
            "Train epoch: 5 [56000/60000 (93%)]\t1.536257\n",
            "Train epoch: 5 [58000/60000 (97%)]\t1.528152\n",
            "\n",
            "Test set: Average loss:  0.0150, Accuracy 9660/10000 (97%\n",
            ")\n",
            "Train epoch: 6 [0/60000 (0%)]\t1.549347\n",
            "Train epoch: 6 [2000/60000 (3%)]\t1.542148\n",
            "Train epoch: 6 [4000/60000 (7%)]\t1.567670\n",
            "Train epoch: 6 [6000/60000 (10%)]\t1.540123\n",
            "Train epoch: 6 [8000/60000 (13%)]\t1.573288\n",
            "Train epoch: 6 [10000/60000 (17%)]\t1.556343\n",
            "Train epoch: 6 [12000/60000 (20%)]\t1.501581\n",
            "Train epoch: 6 [14000/60000 (23%)]\t1.543197\n",
            "Train epoch: 6 [16000/60000 (27%)]\t1.560810\n",
            "Train epoch: 6 [18000/60000 (30%)]\t1.588171\n",
            "Train epoch: 6 [20000/60000 (33%)]\t1.547984\n",
            "Train epoch: 6 [22000/60000 (37%)]\t1.561234\n",
            "Train epoch: 6 [24000/60000 (40%)]\t1.523189\n",
            "Train epoch: 6 [26000/60000 (43%)]\t1.503215\n",
            "Train epoch: 6 [28000/60000 (47%)]\t1.544172\n",
            "Train epoch: 6 [30000/60000 (50%)]\t1.528914\n",
            "Train epoch: 6 [32000/60000 (53%)]\t1.477760\n",
            "Train epoch: 6 [34000/60000 (57%)]\t1.513616\n",
            "Train epoch: 6 [36000/60000 (60%)]\t1.547317\n",
            "Train epoch: 6 [38000/60000 (63%)]\t1.551098\n",
            "Train epoch: 6 [40000/60000 (67%)]\t1.499904\n",
            "Train epoch: 6 [42000/60000 (70%)]\t1.528601\n",
            "Train epoch: 6 [44000/60000 (73%)]\t1.540897\n",
            "Train epoch: 6 [46000/60000 (77%)]\t1.590416\n",
            "Train epoch: 6 [48000/60000 (80%)]\t1.534725\n",
            "Train epoch: 6 [50000/60000 (83%)]\t1.532707\n",
            "Train epoch: 6 [52000/60000 (87%)]\t1.601228\n",
            "Train epoch: 6 [54000/60000 (90%)]\t1.536968\n",
            "Train epoch: 6 [56000/60000 (93%)]\t1.502624\n",
            "Train epoch: 6 [58000/60000 (97%)]\t1.579241\n",
            "\n",
            "Test set: Average loss:  0.0149, Accuracy 9670/10000 (97%\n",
            ")\n",
            "Train epoch: 7 [0/60000 (0%)]\t1.573637\n",
            "Train epoch: 7 [2000/60000 (3%)]\t1.525763\n",
            "Train epoch: 7 [4000/60000 (7%)]\t1.536072\n",
            "Train epoch: 7 [6000/60000 (10%)]\t1.519528\n",
            "Train epoch: 7 [8000/60000 (13%)]\t1.539027\n",
            "Train epoch: 7 [10000/60000 (17%)]\t1.514396\n",
            "Train epoch: 7 [12000/60000 (20%)]\t1.528698\n",
            "Train epoch: 7 [14000/60000 (23%)]\t1.532120\n",
            "Train epoch: 7 [16000/60000 (27%)]\t1.518526\n",
            "Train epoch: 7 [18000/60000 (30%)]\t1.510168\n",
            "Train epoch: 7 [20000/60000 (33%)]\t1.523140\n",
            "Train epoch: 7 [22000/60000 (37%)]\t1.564072\n",
            "Train epoch: 7 [24000/60000 (40%)]\t1.531356\n",
            "Train epoch: 7 [26000/60000 (43%)]\t1.561993\n",
            "Train epoch: 7 [28000/60000 (47%)]\t1.577272\n",
            "Train epoch: 7 [30000/60000 (50%)]\t1.512388\n",
            "Train epoch: 7 [32000/60000 (53%)]\t1.516962\n",
            "Train epoch: 7 [34000/60000 (57%)]\t1.563397\n",
            "Train epoch: 7 [36000/60000 (60%)]\t1.541305\n",
            "Train epoch: 7 [38000/60000 (63%)]\t1.523268\n",
            "Train epoch: 7 [40000/60000 (67%)]\t1.530501\n",
            "Train epoch: 7 [42000/60000 (70%)]\t1.543402\n",
            "Train epoch: 7 [44000/60000 (73%)]\t1.544546\n",
            "Train epoch: 7 [46000/60000 (77%)]\t1.546726\n",
            "Train epoch: 7 [48000/60000 (80%)]\t1.502051\n",
            "Train epoch: 7 [50000/60000 (83%)]\t1.551794\n",
            "Train epoch: 7 [52000/60000 (87%)]\t1.522749\n",
            "Train epoch: 7 [54000/60000 (90%)]\t1.505537\n",
            "Train epoch: 7 [56000/60000 (93%)]\t1.539661\n",
            "Train epoch: 7 [58000/60000 (97%)]\t1.520712\n",
            "\n",
            "Test set: Average loss:  0.0149, Accuracy 9676/10000 (97%\n",
            ")\n",
            "Train epoch: 8 [0/60000 (0%)]\t1.531207\n",
            "Train epoch: 8 [2000/60000 (3%)]\t1.538107\n",
            "Train epoch: 8 [4000/60000 (7%)]\t1.525509\n",
            "Train epoch: 8 [6000/60000 (10%)]\t1.523868\n",
            "Train epoch: 8 [8000/60000 (13%)]\t1.503515\n",
            "Train epoch: 8 [10000/60000 (17%)]\t1.521515\n",
            "Train epoch: 8 [12000/60000 (20%)]\t1.529854\n",
            "Train epoch: 8 [14000/60000 (23%)]\t1.548458\n",
            "Train epoch: 8 [16000/60000 (27%)]\t1.498826\n",
            "Train epoch: 8 [18000/60000 (30%)]\t1.518506\n",
            "Train epoch: 8 [20000/60000 (33%)]\t1.550770\n",
            "Train epoch: 8 [22000/60000 (37%)]\t1.570384\n",
            "Train epoch: 8 [24000/60000 (40%)]\t1.503840\n",
            "Train epoch: 8 [26000/60000 (43%)]\t1.560559\n",
            "Train epoch: 8 [28000/60000 (47%)]\t1.521597\n",
            "Train epoch: 8 [30000/60000 (50%)]\t1.575775\n",
            "Train epoch: 8 [32000/60000 (53%)]\t1.511560\n",
            "Train epoch: 8 [34000/60000 (57%)]\t1.543205\n",
            "Train epoch: 8 [36000/60000 (60%)]\t1.496759\n",
            "Train epoch: 8 [38000/60000 (63%)]\t1.535660\n",
            "Train epoch: 8 [40000/60000 (67%)]\t1.548245\n",
            "Train epoch: 8 [42000/60000 (70%)]\t1.519307\n",
            "Train epoch: 8 [44000/60000 (73%)]\t1.528651\n",
            "Train epoch: 8 [46000/60000 (77%)]\t1.537158\n",
            "Train epoch: 8 [48000/60000 (80%)]\t1.553819\n",
            "Train epoch: 8 [50000/60000 (83%)]\t1.526093\n",
            "Train epoch: 8 [52000/60000 (87%)]\t1.518363\n",
            "Train epoch: 8 [54000/60000 (90%)]\t1.508361\n",
            "Train epoch: 8 [56000/60000 (93%)]\t1.506866\n",
            "Train epoch: 8 [58000/60000 (97%)]\t1.527350\n",
            "\n",
            "Test set: Average loss:  0.0149, Accuracy 9708/10000 (97%\n",
            ")\n",
            "Train epoch: 9 [0/60000 (0%)]\t1.544454\n",
            "Train epoch: 9 [2000/60000 (3%)]\t1.574372\n",
            "Train epoch: 9 [4000/60000 (7%)]\t1.572893\n",
            "Train epoch: 9 [6000/60000 (10%)]\t1.531205\n",
            "Train epoch: 9 [8000/60000 (13%)]\t1.525756\n",
            "Train epoch: 9 [10000/60000 (17%)]\t1.524079\n",
            "Train epoch: 9 [12000/60000 (20%)]\t1.538550\n",
            "Train epoch: 9 [14000/60000 (23%)]\t1.539673\n",
            "Train epoch: 9 [16000/60000 (27%)]\t1.568688\n",
            "Train epoch: 9 [18000/60000 (30%)]\t1.532717\n",
            "Train epoch: 9 [20000/60000 (33%)]\t1.541188\n",
            "Train epoch: 9 [22000/60000 (37%)]\t1.539239\n",
            "Train epoch: 9 [24000/60000 (40%)]\t1.522543\n",
            "Train epoch: 9 [26000/60000 (43%)]\t1.528155\n",
            "Train epoch: 9 [28000/60000 (47%)]\t1.540815\n",
            "Train epoch: 9 [30000/60000 (50%)]\t1.540551\n",
            "Train epoch: 9 [32000/60000 (53%)]\t1.530606\n",
            "Train epoch: 9 [34000/60000 (57%)]\t1.566780\n",
            "Train epoch: 9 [36000/60000 (60%)]\t1.528609\n",
            "Train epoch: 9 [38000/60000 (63%)]\t1.538970\n",
            "Train epoch: 9 [40000/60000 (67%)]\t1.516821\n",
            "Train epoch: 9 [42000/60000 (70%)]\t1.512390\n",
            "Train epoch: 9 [44000/60000 (73%)]\t1.505996\n",
            "Train epoch: 9 [46000/60000 (77%)]\t1.513479\n",
            "Train epoch: 9 [48000/60000 (80%)]\t1.521646\n",
            "Train epoch: 9 [50000/60000 (83%)]\t1.543563\n",
            "Train epoch: 9 [52000/60000 (87%)]\t1.543267\n",
            "Train epoch: 9 [54000/60000 (90%)]\t1.586058\n",
            "Train epoch: 9 [56000/60000 (93%)]\t1.538739\n",
            "Train epoch: 9 [58000/60000 (97%)]\t1.545032\n",
            "\n",
            "Test set: Average loss:  0.0149, Accuracy 9728/10000 (97%\n",
            ")\n",
            "Train epoch: 10 [0/60000 (0%)]\t1.566659\n",
            "Train epoch: 10 [2000/60000 (3%)]\t1.508141\n",
            "Train epoch: 10 [4000/60000 (7%)]\t1.544993\n",
            "Train epoch: 10 [6000/60000 (10%)]\t1.520673\n",
            "Train epoch: 10 [8000/60000 (13%)]\t1.501293\n",
            "Train epoch: 10 [10000/60000 (17%)]\t1.517560\n",
            "Train epoch: 10 [12000/60000 (20%)]\t1.551538\n",
            "Train epoch: 10 [14000/60000 (23%)]\t1.511197\n",
            "Train epoch: 10 [16000/60000 (27%)]\t1.541805\n",
            "Train epoch: 10 [18000/60000 (30%)]\t1.548958\n",
            "Train epoch: 10 [20000/60000 (33%)]\t1.510629\n",
            "Train epoch: 10 [22000/60000 (37%)]\t1.569813\n",
            "Train epoch: 10 [24000/60000 (40%)]\t1.564358\n",
            "Train epoch: 10 [26000/60000 (43%)]\t1.572750\n",
            "Train epoch: 10 [28000/60000 (47%)]\t1.529306\n",
            "Train epoch: 10 [30000/60000 (50%)]\t1.537938\n",
            "Train epoch: 10 [32000/60000 (53%)]\t1.537218\n",
            "Train epoch: 10 [34000/60000 (57%)]\t1.498427\n",
            "Train epoch: 10 [36000/60000 (60%)]\t1.544355\n",
            "Train epoch: 10 [38000/60000 (63%)]\t1.543348\n",
            "Train epoch: 10 [40000/60000 (67%)]\t1.511312\n",
            "Train epoch: 10 [42000/60000 (70%)]\t1.554633\n",
            "Train epoch: 10 [44000/60000 (73%)]\t1.504850\n",
            "Train epoch: 10 [46000/60000 (77%)]\t1.555613\n",
            "Train epoch: 10 [48000/60000 (80%)]\t1.541089\n",
            "Train epoch: 10 [50000/60000 (83%)]\t1.540856\n",
            "Train epoch: 10 [52000/60000 (87%)]\t1.560978\n",
            "Train epoch: 10 [54000/60000 (90%)]\t1.500148\n",
            "Train epoch: 10 [56000/60000 (93%)]\t1.492748\n",
            "Train epoch: 10 [58000/60000 (97%)]\t1.539730\n",
            "\n",
            "Test set: Average loss:  0.0149, Accuracy 9730/10000 (97%\n",
            ")\n"
          ]
        }
      ]
    }
  ]
}
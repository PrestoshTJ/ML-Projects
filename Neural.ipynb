{
  "nbformat": 4,
  "nbformat_minor": 0,
  "metadata": {
    "colab": {
      "provenance": [],
      "authorship_tag": "ABX9TyNx78JhdyzaZjeT15v4QBJz",
      "include_colab_link": true
    },
    "kernelspec": {
      "name": "python3",
      "display_name": "Python 3"
    },
    "language_info": {
      "name": "python"
    }
  },
  "cells": [
    {
      "cell_type": "markdown",
      "metadata": {
        "id": "view-in-github",
        "colab_type": "text"
      },
      "source": [
        "<a href=\"https://colab.research.google.com/github/PrestoshTJ/ML-Projects/blob/main/Neural.ipynb\" target=\"_parent\"><img src=\"https://colab.research.google.com/assets/colab-badge.svg\" alt=\"Open In Colab\"/></a>"
      ]
    },
    {
      "cell_type": "code",
      "source": [
        "! pip3 install torch torchvision matplotlib"
      ],
      "metadata": {
        "colab": {
          "base_uri": "https://localhost:8080/"
        },
        "id": "I1kbnA6byBcr",
        "outputId": "2e03bf1c-dac7-456c-8aed-26c27fa031bc"
      },
      "execution_count": 2,
      "outputs": [
        {
          "output_type": "stream",
          "name": "stdout",
          "text": [
            "Requirement already satisfied: torch in /usr/local/lib/python3.10/dist-packages (2.5.1+cu121)\n",
            "Requirement already satisfied: torchvision in /usr/local/lib/python3.10/dist-packages (0.20.1+cu121)\n",
            "Requirement already satisfied: matplotlib in /usr/local/lib/python3.10/dist-packages (3.8.0)\n",
            "Requirement already satisfied: filelock in /usr/local/lib/python3.10/dist-packages (from torch) (3.16.1)\n",
            "Requirement already satisfied: typing-extensions>=4.8.0 in /usr/local/lib/python3.10/dist-packages (from torch) (4.12.2)\n",
            "Requirement already satisfied: networkx in /usr/local/lib/python3.10/dist-packages (from torch) (3.4.2)\n",
            "Requirement already satisfied: jinja2 in /usr/local/lib/python3.10/dist-packages (from torch) (3.1.4)\n",
            "Requirement already satisfied: fsspec in /usr/local/lib/python3.10/dist-packages (from torch) (2024.10.0)\n",
            "Requirement already satisfied: sympy==1.13.1 in /usr/local/lib/python3.10/dist-packages (from torch) (1.13.1)\n",
            "Requirement already satisfied: mpmath<1.4,>=1.1.0 in /usr/local/lib/python3.10/dist-packages (from sympy==1.13.1->torch) (1.3.0)\n",
            "Requirement already satisfied: numpy in /usr/local/lib/python3.10/dist-packages (from torchvision) (1.26.4)\n",
            "Requirement already satisfied: pillow!=8.3.*,>=5.3.0 in /usr/local/lib/python3.10/dist-packages (from torchvision) (11.0.0)\n",
            "Requirement already satisfied: contourpy>=1.0.1 in /usr/local/lib/python3.10/dist-packages (from matplotlib) (1.3.1)\n",
            "Requirement already satisfied: cycler>=0.10 in /usr/local/lib/python3.10/dist-packages (from matplotlib) (0.12.1)\n",
            "Requirement already satisfied: fonttools>=4.22.0 in /usr/local/lib/python3.10/dist-packages (from matplotlib) (4.55.0)\n",
            "Requirement already satisfied: kiwisolver>=1.0.1 in /usr/local/lib/python3.10/dist-packages (from matplotlib) (1.4.7)\n",
            "Requirement already satisfied: packaging>=20.0 in /usr/local/lib/python3.10/dist-packages (from matplotlib) (24.2)\n",
            "Requirement already satisfied: pyparsing>=2.3.1 in /usr/local/lib/python3.10/dist-packages (from matplotlib) (3.2.0)\n",
            "Requirement already satisfied: python-dateutil>=2.7 in /usr/local/lib/python3.10/dist-packages (from matplotlib) (2.8.2)\n",
            "Requirement already satisfied: six>=1.5 in /usr/local/lib/python3.10/dist-packages (from python-dateutil>=2.7->matplotlib) (1.16.0)\n",
            "Requirement already satisfied: MarkupSafe>=2.0 in /usr/local/lib/python3.10/dist-packages (from jinja2->torch) (3.0.2)\n"
          ]
        }
      ]
    },
    {
      "cell_type": "code",
      "source": [],
      "metadata": {
        "id": "xeSAH1dz70VB"
      },
      "execution_count": null,
      "outputs": []
    },
    {
      "cell_type": "code",
      "execution_count": 12,
      "metadata": {
        "id": "oSfZeq5Rxalv"
      },
      "outputs": [],
      "source": [
        "from torchvision import datasets\n",
        "from torchvision.transforms import ToTensor\n",
        "from torch.utils.data import DataLoader\n",
        "import torch.nn as nn\n",
        "import torch.nn.functional as F\n",
        "import torch.optim as optim\n",
        "import torch as torch\n",
        "import matplotlib.pyplot as plt"
      ]
    },
    {
      "cell_type": "code",
      "source": [],
      "metadata": {
        "id": "MXk2il_y1BlD"
      },
      "execution_count": null,
      "outputs": []
    },
    {
      "cell_type": "code",
      "source": [
        "train_data = datasets.MNIST(root = 'data', train = True, transform = ToTensor(), download = True)\n",
        "test_data = datasets.MNIST(root = 'data', train = False, transform = ToTensor(), download = True)"
      ],
      "metadata": {
        "id": "_FmHiJOoyYf_"
      },
      "execution_count": 5,
      "outputs": []
    },
    {
      "cell_type": "code",
      "source": [
        "data_loaders = {\n",
        "    'train': DataLoader(train_data, batch_size = 100, shuffle = True, num_workers = 1),\n",
        "    'test': DataLoader(test_data, batch_size = 100, shuffle = True, num_workers = 1)\n",
        "}"
      ],
      "metadata": {
        "id": "eGb3dxYFy5fE"
      },
      "execution_count": 6,
      "outputs": []
    },
    {
      "cell_type": "code",
      "source": [
        "class CNN(nn.Module):\n",
        "  def __init__(self):\n",
        "    super(CNN, self).__init__()\n",
        "    self.conv1 = nn.Conv2d(1, 10, kernel_size=5)\n",
        "    self.conv2 = nn.Conv2d(10,20,kernel_size=5)\n",
        "    self.conv2_drop = nn.Dropout2d()\n",
        "    self.fc1 = nn.Linear(320,50)\n",
        "    self.fc2 = nn.Linear(50,10)\n",
        "\n",
        "  def forward(self, x):\n",
        "    x = F.relu(F.max_pool2d(self.conv1(x), 2))\n",
        "    x = F.relu(F.max_pool2d(self.conv2_drop(self.conv2(x)), 2))\n",
        "    x = x.view(-1, 320)\n",
        "    x = F.relu(self.fc1(x))\n",
        "    x = F.dropout(x, training = self.training)\n",
        "    x = self.fc2(x)\n",
        "\n",
        "    return F.softmax(x)"
      ],
      "metadata": {
        "id": "vWykZQZNzgwL"
      },
      "execution_count": 7,
      "outputs": []
    },
    {
      "cell_type": "code",
      "source": [
        "device = torch.device('cuda' if torch.cuda.is_available() else 'cpu')\n",
        "model = CNN().to(device)\n",
        "optimizer = optim.Adam(model.parameters(), lr = 0.001)\n",
        "loss_fn = nn.CrossEntropyLoss()\n",
        "def train(epoch):\n",
        "  model.train()\n",
        "  for batch_idx, (data, target) in enumerate(data_loaders['train']):\n",
        "    data, target = data.to(device), target.to(device)\n",
        "    optimizer.zero_grad()\n",
        "    output = model(data)\n",
        "    loss = loss_fn(output, target)\n",
        "    loss.backward()\n",
        "    optimizer.step()\n",
        "    if batch_idx % 20 == 0:\n",
        "      print(f\"Train epoch: {epoch} [{batch_idx * len(data)}/{len(data_loaders['train'].dataset)} ({100. * batch_idx / len(data_loaders['train']):.0f}%)]\\t{loss.item():.6f}\")\n",
        "\n",
        "def test():\n",
        "  model.eval()\n",
        "  test_loss = 0\n",
        "  correct = 0\n",
        "  with torch.no_grad():\n",
        "    for data, target in data_loaders['test']:\n",
        "      data, target = data.to(device), target.to(device)\n",
        "      output = model(data)\n",
        "      test_loss += loss_fn(output, target).item()\n",
        "      pred = output.argmax(dim=1, keepdim=True)\n",
        "      correct += pred.eq(target.view_as(pred)).sum().item()\n",
        "  test_loss /= len(data_loaders['test'].dataset)\n",
        "  print(f\"\\nTest set: Average loss: {test_loss: .4f}, Accuracy {correct}/{len(data_loaders['test'].dataset)} ({100. * correct / len(data_loaders['test'].dataset):.0f}%\\n)\")\n"
      ],
      "metadata": {
        "id": "HH50hbOQ1EaE"
      },
      "execution_count": 8,
      "outputs": []
    },
    {
      "cell_type": "code",
      "source": [
        "for epoch in range(1, 11):\n",
        "  train(epoch)\n",
        "  test()"
      ],
      "metadata": {
        "colab": {
          "base_uri": "https://localhost:8080/"
        },
        "id": "bFGSNoEeyKzj",
        "outputId": "483fcfce-0d93-4bd2-c4e3-fc4525dd62fa"
      },
      "execution_count": 9,
      "outputs": [
        {
          "output_type": "stream",
          "name": "stderr",
          "text": [
            "<ipython-input-7-da121ee6bd6c>:18: UserWarning: Implicit dimension choice for softmax has been deprecated. Change the call to include dim=X as an argument.\n",
            "  return F.softmax(x)\n"
          ]
        },
        {
          "output_type": "stream",
          "name": "stdout",
          "text": [
            "Train epoch: 1 [0/60000 (0%)]\t2.301740\n",
            "Train epoch: 1 [2000/60000 (3%)]\t2.286477\n",
            "Train epoch: 1 [4000/60000 (7%)]\t2.206698\n",
            "Train epoch: 1 [6000/60000 (10%)]\t2.028576\n",
            "Train epoch: 1 [8000/60000 (13%)]\t1.926877\n",
            "Train epoch: 1 [10000/60000 (17%)]\t1.851065\n",
            "Train epoch: 1 [12000/60000 (20%)]\t1.839232\n",
            "Train epoch: 1 [14000/60000 (23%)]\t1.774469\n",
            "Train epoch: 1 [16000/60000 (27%)]\t1.784766\n",
            "Train epoch: 1 [18000/60000 (30%)]\t1.807272\n",
            "Train epoch: 1 [20000/60000 (33%)]\t1.733592\n",
            "Train epoch: 1 [22000/60000 (37%)]\t1.732880\n",
            "Train epoch: 1 [24000/60000 (40%)]\t1.734069\n",
            "Train epoch: 1 [26000/60000 (43%)]\t1.654275\n",
            "Train epoch: 1 [28000/60000 (47%)]\t1.716706\n",
            "Train epoch: 1 [30000/60000 (50%)]\t1.756044\n",
            "Train epoch: 1 [32000/60000 (53%)]\t1.726544\n",
            "Train epoch: 1 [34000/60000 (57%)]\t1.703051\n",
            "Train epoch: 1 [36000/60000 (60%)]\t1.652337\n",
            "Train epoch: 1 [38000/60000 (63%)]\t1.754558\n",
            "Train epoch: 1 [40000/60000 (67%)]\t1.727388\n",
            "Train epoch: 1 [42000/60000 (70%)]\t1.647361\n",
            "Train epoch: 1 [44000/60000 (73%)]\t1.650974\n",
            "Train epoch: 1 [46000/60000 (77%)]\t1.697792\n",
            "Train epoch: 1 [48000/60000 (80%)]\t1.644994\n",
            "Train epoch: 1 [50000/60000 (83%)]\t1.590138\n",
            "Train epoch: 1 [52000/60000 (87%)]\t1.624083\n",
            "Train epoch: 1 [54000/60000 (90%)]\t1.647894\n",
            "Train epoch: 1 [56000/60000 (93%)]\t1.690848\n",
            "Train epoch: 1 [58000/60000 (97%)]\t1.655109\n",
            "\n",
            "Test set: Average loss:  0.0155, Accuracy 9108/10000 (91%\n",
            ")\n",
            "Train epoch: 2 [0/60000 (0%)]\t1.615767\n",
            "Train epoch: 2 [2000/60000 (3%)]\t1.647678\n",
            "Train epoch: 2 [4000/60000 (7%)]\t1.602752\n",
            "Train epoch: 2 [6000/60000 (10%)]\t1.604589\n",
            "Train epoch: 2 [8000/60000 (13%)]\t1.595325\n",
            "Train epoch: 2 [10000/60000 (17%)]\t1.547453\n",
            "Train epoch: 2 [12000/60000 (20%)]\t1.602671\n",
            "Train epoch: 2 [14000/60000 (23%)]\t1.564181\n",
            "Train epoch: 2 [16000/60000 (27%)]\t1.559853\n",
            "Train epoch: 2 [18000/60000 (30%)]\t1.617128\n",
            "Train epoch: 2 [20000/60000 (33%)]\t1.598768\n",
            "Train epoch: 2 [22000/60000 (37%)]\t1.544210\n",
            "Train epoch: 2 [24000/60000 (40%)]\t1.596178\n",
            "Train epoch: 2 [26000/60000 (43%)]\t1.557042\n",
            "Train epoch: 2 [28000/60000 (47%)]\t1.582570\n",
            "Train epoch: 2 [30000/60000 (50%)]\t1.599287\n",
            "Train epoch: 2 [32000/60000 (53%)]\t1.543707\n",
            "Train epoch: 2 [34000/60000 (57%)]\t1.589803\n",
            "Train epoch: 2 [36000/60000 (60%)]\t1.607436\n",
            "Train epoch: 2 [38000/60000 (63%)]\t1.641386\n",
            "Train epoch: 2 [40000/60000 (67%)]\t1.592030\n",
            "Train epoch: 2 [42000/60000 (70%)]\t1.576443\n",
            "Train epoch: 2 [44000/60000 (73%)]\t1.570112\n",
            "Train epoch: 2 [46000/60000 (77%)]\t1.575904\n",
            "Train epoch: 2 [48000/60000 (80%)]\t1.547248\n",
            "Train epoch: 2 [50000/60000 (83%)]\t1.622127\n",
            "Train epoch: 2 [52000/60000 (87%)]\t1.512461\n",
            "Train epoch: 2 [54000/60000 (90%)]\t1.547398\n",
            "Train epoch: 2 [56000/60000 (93%)]\t1.546401\n",
            "Train epoch: 2 [58000/60000 (97%)]\t1.576962\n",
            "\n",
            "Test set: Average loss:  0.0151, Accuracy 9516/10000 (95%\n",
            ")\n",
            "Train epoch: 3 [0/60000 (0%)]\t1.563150\n",
            "Train epoch: 3 [2000/60000 (3%)]\t1.577698\n",
            "Train epoch: 3 [4000/60000 (7%)]\t1.585844\n",
            "Train epoch: 3 [6000/60000 (10%)]\t1.576040\n",
            "Train epoch: 3 [8000/60000 (13%)]\t1.521857\n",
            "Train epoch: 3 [10000/60000 (17%)]\t1.572472\n",
            "Train epoch: 3 [12000/60000 (20%)]\t1.562229\n",
            "Train epoch: 3 [14000/60000 (23%)]\t1.527042\n",
            "Train epoch: 3 [16000/60000 (27%)]\t1.571324\n",
            "Train epoch: 3 [18000/60000 (30%)]\t1.611577\n",
            "Train epoch: 3 [20000/60000 (33%)]\t1.578567\n",
            "Train epoch: 3 [22000/60000 (37%)]\t1.533611\n",
            "Train epoch: 3 [24000/60000 (40%)]\t1.564922\n",
            "Train epoch: 3 [26000/60000 (43%)]\t1.514408\n",
            "Train epoch: 3 [28000/60000 (47%)]\t1.607657\n",
            "Train epoch: 3 [30000/60000 (50%)]\t1.525711\n",
            "Train epoch: 3 [32000/60000 (53%)]\t1.609928\n",
            "Train epoch: 3 [34000/60000 (57%)]\t1.569309\n",
            "Train epoch: 3 [36000/60000 (60%)]\t1.564155\n",
            "Train epoch: 3 [38000/60000 (63%)]\t1.612998\n",
            "Train epoch: 3 [40000/60000 (67%)]\t1.553517\n",
            "Train epoch: 3 [42000/60000 (70%)]\t1.534390\n",
            "Train epoch: 3 [44000/60000 (73%)]\t1.556695\n",
            "Train epoch: 3 [46000/60000 (77%)]\t1.644744\n",
            "Train epoch: 3 [48000/60000 (80%)]\t1.626481\n",
            "Train epoch: 3 [50000/60000 (83%)]\t1.567208\n",
            "Train epoch: 3 [52000/60000 (87%)]\t1.536636\n",
            "Train epoch: 3 [54000/60000 (90%)]\t1.511984\n",
            "Train epoch: 3 [56000/60000 (93%)]\t1.581594\n",
            "Train epoch: 3 [58000/60000 (97%)]\t1.521595\n",
            "\n",
            "Test set: Average loss:  0.0150, Accuracy 9602/10000 (96%\n",
            ")\n",
            "Train epoch: 4 [0/60000 (0%)]\t1.572985\n",
            "Train epoch: 4 [2000/60000 (3%)]\t1.567637\n",
            "Train epoch: 4 [4000/60000 (7%)]\t1.597639\n",
            "Train epoch: 4 [6000/60000 (10%)]\t1.577140\n",
            "Train epoch: 4 [8000/60000 (13%)]\t1.533279\n",
            "Train epoch: 4 [10000/60000 (17%)]\t1.582878\n",
            "Train epoch: 4 [12000/60000 (20%)]\t1.508607\n",
            "Train epoch: 4 [14000/60000 (23%)]\t1.562627\n",
            "Train epoch: 4 [16000/60000 (27%)]\t1.509356\n",
            "Train epoch: 4 [18000/60000 (30%)]\t1.533054\n",
            "Train epoch: 4 [20000/60000 (33%)]\t1.553277\n",
            "Train epoch: 4 [22000/60000 (37%)]\t1.526079\n",
            "Train epoch: 4 [24000/60000 (40%)]\t1.526686\n",
            "Train epoch: 4 [26000/60000 (43%)]\t1.560873\n",
            "Train epoch: 4 [28000/60000 (47%)]\t1.531397\n",
            "Train epoch: 4 [30000/60000 (50%)]\t1.534556\n",
            "Train epoch: 4 [32000/60000 (53%)]\t1.553943\n",
            "Train epoch: 4 [34000/60000 (57%)]\t1.587850\n",
            "Train epoch: 4 [36000/60000 (60%)]\t1.570429\n",
            "Train epoch: 4 [38000/60000 (63%)]\t1.557168\n",
            "Train epoch: 4 [40000/60000 (67%)]\t1.515212\n",
            "Train epoch: 4 [42000/60000 (70%)]\t1.537272\n",
            "Train epoch: 4 [44000/60000 (73%)]\t1.579698\n",
            "Train epoch: 4 [46000/60000 (77%)]\t1.540839\n",
            "Train epoch: 4 [48000/60000 (80%)]\t1.511964\n",
            "Train epoch: 4 [50000/60000 (83%)]\t1.531015\n",
            "Train epoch: 4 [52000/60000 (87%)]\t1.519739\n",
            "Train epoch: 4 [54000/60000 (90%)]\t1.583277\n",
            "Train epoch: 4 [56000/60000 (93%)]\t1.537560\n",
            "Train epoch: 4 [58000/60000 (97%)]\t1.559031\n",
            "\n",
            "Test set: Average loss:  0.0150, Accuracy 9639/10000 (96%\n",
            ")\n",
            "Train epoch: 5 [0/60000 (0%)]\t1.565660\n",
            "Train epoch: 5 [2000/60000 (3%)]\t1.553195\n",
            "Train epoch: 5 [4000/60000 (7%)]\t1.519731\n",
            "Train epoch: 5 [6000/60000 (10%)]\t1.551791\n",
            "Train epoch: 5 [8000/60000 (13%)]\t1.565292\n",
            "Train epoch: 5 [10000/60000 (17%)]\t1.568114\n",
            "Train epoch: 5 [12000/60000 (20%)]\t1.536629\n",
            "Train epoch: 5 [14000/60000 (23%)]\t1.496356\n",
            "Train epoch: 5 [16000/60000 (27%)]\t1.536507\n",
            "Train epoch: 5 [18000/60000 (30%)]\t1.523729\n",
            "Train epoch: 5 [20000/60000 (33%)]\t1.579431\n",
            "Train epoch: 5 [22000/60000 (37%)]\t1.535480\n",
            "Train epoch: 5 [24000/60000 (40%)]\t1.558332\n",
            "Train epoch: 5 [26000/60000 (43%)]\t1.541891\n",
            "Train epoch: 5 [28000/60000 (47%)]\t1.543384\n",
            "Train epoch: 5 [30000/60000 (50%)]\t1.496133\n",
            "Train epoch: 5 [32000/60000 (53%)]\t1.519622\n",
            "Train epoch: 5 [34000/60000 (57%)]\t1.501314\n",
            "Train epoch: 5 [36000/60000 (60%)]\t1.528835\n",
            "Train epoch: 5 [38000/60000 (63%)]\t1.514863\n",
            "Train epoch: 5 [40000/60000 (67%)]\t1.512016\n",
            "Train epoch: 5 [42000/60000 (70%)]\t1.535903\n",
            "Train epoch: 5 [44000/60000 (73%)]\t1.555015\n",
            "Train epoch: 5 [46000/60000 (77%)]\t1.582065\n",
            "Train epoch: 5 [48000/60000 (80%)]\t1.558617\n",
            "Train epoch: 5 [50000/60000 (83%)]\t1.558861\n",
            "Train epoch: 5 [52000/60000 (87%)]\t1.543137\n",
            "Train epoch: 5 [54000/60000 (90%)]\t1.536545\n",
            "Train epoch: 5 [56000/60000 (93%)]\t1.550334\n",
            "Train epoch: 5 [58000/60000 (97%)]\t1.557599\n",
            "\n",
            "Test set: Average loss:  0.0150, Accuracy 9649/10000 (96%\n",
            ")\n",
            "Train epoch: 6 [0/60000 (0%)]\t1.557113\n",
            "Train epoch: 6 [2000/60000 (3%)]\t1.583454\n",
            "Train epoch: 6 [4000/60000 (7%)]\t1.513272\n",
            "Train epoch: 6 [6000/60000 (10%)]\t1.553195\n",
            "Train epoch: 6 [8000/60000 (13%)]\t1.577691\n",
            "Train epoch: 6 [10000/60000 (17%)]\t1.565840\n",
            "Train epoch: 6 [12000/60000 (20%)]\t1.533726\n",
            "Train epoch: 6 [14000/60000 (23%)]\t1.545397\n",
            "Train epoch: 6 [16000/60000 (27%)]\t1.550975\n",
            "Train epoch: 6 [18000/60000 (30%)]\t1.512392\n",
            "Train epoch: 6 [20000/60000 (33%)]\t1.568598\n",
            "Train epoch: 6 [22000/60000 (37%)]\t1.548413\n",
            "Train epoch: 6 [24000/60000 (40%)]\t1.494708\n",
            "Train epoch: 6 [26000/60000 (43%)]\t1.519238\n",
            "Train epoch: 6 [28000/60000 (47%)]\t1.521788\n",
            "Train epoch: 6 [30000/60000 (50%)]\t1.608896\n",
            "Train epoch: 6 [32000/60000 (53%)]\t1.575284\n",
            "Train epoch: 6 [34000/60000 (57%)]\t1.499476\n",
            "Train epoch: 6 [36000/60000 (60%)]\t1.524114\n",
            "Train epoch: 6 [38000/60000 (63%)]\t1.512822\n",
            "Train epoch: 6 [40000/60000 (67%)]\t1.498025\n",
            "Train epoch: 6 [42000/60000 (70%)]\t1.545783\n",
            "Train epoch: 6 [44000/60000 (73%)]\t1.540743\n",
            "Train epoch: 6 [46000/60000 (77%)]\t1.527161\n",
            "Train epoch: 6 [48000/60000 (80%)]\t1.524426\n",
            "Train epoch: 6 [50000/60000 (83%)]\t1.536027\n",
            "Train epoch: 6 [52000/60000 (87%)]\t1.520889\n",
            "Train epoch: 6 [54000/60000 (90%)]\t1.574439\n",
            "Train epoch: 6 [56000/60000 (93%)]\t1.544977\n",
            "Train epoch: 6 [58000/60000 (97%)]\t1.512635\n",
            "\n",
            "Test set: Average loss:  0.0149, Accuracy 9681/10000 (97%\n",
            ")\n",
            "Train epoch: 7 [0/60000 (0%)]\t1.533815\n",
            "Train epoch: 7 [2000/60000 (3%)]\t1.550247\n",
            "Train epoch: 7 [4000/60000 (7%)]\t1.547379\n",
            "Train epoch: 7 [6000/60000 (10%)]\t1.550838\n",
            "Train epoch: 7 [8000/60000 (13%)]\t1.533669\n",
            "Train epoch: 7 [10000/60000 (17%)]\t1.540160\n",
            "Train epoch: 7 [12000/60000 (20%)]\t1.492263\n",
            "Train epoch: 7 [14000/60000 (23%)]\t1.576553\n",
            "Train epoch: 7 [16000/60000 (27%)]\t1.550340\n",
            "Train epoch: 7 [18000/60000 (30%)]\t1.537048\n",
            "Train epoch: 7 [20000/60000 (33%)]\t1.476629\n",
            "Train epoch: 7 [22000/60000 (37%)]\t1.527289\n",
            "Train epoch: 7 [24000/60000 (40%)]\t1.514040\n",
            "Train epoch: 7 [26000/60000 (43%)]\t1.547489\n",
            "Train epoch: 7 [28000/60000 (47%)]\t1.524721\n",
            "Train epoch: 7 [30000/60000 (50%)]\t1.545868\n",
            "Train epoch: 7 [32000/60000 (53%)]\t1.501070\n",
            "Train epoch: 7 [34000/60000 (57%)]\t1.510738\n",
            "Train epoch: 7 [36000/60000 (60%)]\t1.512236\n",
            "Train epoch: 7 [38000/60000 (63%)]\t1.527031\n",
            "Train epoch: 7 [40000/60000 (67%)]\t1.540079\n",
            "Train epoch: 7 [42000/60000 (70%)]\t1.545875\n",
            "Train epoch: 7 [44000/60000 (73%)]\t1.531816\n",
            "Train epoch: 7 [46000/60000 (77%)]\t1.514174\n",
            "Train epoch: 7 [48000/60000 (80%)]\t1.589751\n",
            "Train epoch: 7 [50000/60000 (83%)]\t1.535881\n",
            "Train epoch: 7 [52000/60000 (87%)]\t1.504804\n",
            "Train epoch: 7 [54000/60000 (90%)]\t1.507626\n",
            "Train epoch: 7 [56000/60000 (93%)]\t1.557102\n",
            "Train epoch: 7 [58000/60000 (97%)]\t1.576948\n",
            "\n",
            "Test set: Average loss:  0.0149, Accuracy 9700/10000 (97%\n",
            ")\n",
            "Train epoch: 8 [0/60000 (0%)]\t1.535978\n",
            "Train epoch: 8 [2000/60000 (3%)]\t1.541533\n",
            "Train epoch: 8 [4000/60000 (7%)]\t1.543240\n",
            "Train epoch: 8 [6000/60000 (10%)]\t1.538947\n",
            "Train epoch: 8 [8000/60000 (13%)]\t1.570637\n",
            "Train epoch: 8 [10000/60000 (17%)]\t1.527059\n",
            "Train epoch: 8 [12000/60000 (20%)]\t1.507413\n",
            "Train epoch: 8 [14000/60000 (23%)]\t1.541017\n",
            "Train epoch: 8 [16000/60000 (27%)]\t1.531121\n",
            "Train epoch: 8 [18000/60000 (30%)]\t1.541079\n",
            "Train epoch: 8 [20000/60000 (33%)]\t1.559751\n",
            "Train epoch: 8 [22000/60000 (37%)]\t1.525104\n",
            "Train epoch: 8 [24000/60000 (40%)]\t1.537695\n",
            "Train epoch: 8 [26000/60000 (43%)]\t1.508242\n",
            "Train epoch: 8 [28000/60000 (47%)]\t1.535233\n",
            "Train epoch: 8 [30000/60000 (50%)]\t1.606858\n",
            "Train epoch: 8 [32000/60000 (53%)]\t1.478570\n",
            "Train epoch: 8 [34000/60000 (57%)]\t1.530272\n",
            "Train epoch: 8 [36000/60000 (60%)]\t1.522596\n",
            "Train epoch: 8 [38000/60000 (63%)]\t1.618596\n",
            "Train epoch: 8 [40000/60000 (67%)]\t1.538778\n",
            "Train epoch: 8 [42000/60000 (70%)]\t1.531785\n",
            "Train epoch: 8 [44000/60000 (73%)]\t1.523107\n",
            "Train epoch: 8 [46000/60000 (77%)]\t1.506269\n",
            "Train epoch: 8 [48000/60000 (80%)]\t1.505633\n",
            "Train epoch: 8 [50000/60000 (83%)]\t1.536693\n",
            "Train epoch: 8 [52000/60000 (87%)]\t1.543938\n",
            "Train epoch: 8 [54000/60000 (90%)]\t1.555845\n",
            "Train epoch: 8 [56000/60000 (93%)]\t1.525009\n",
            "Train epoch: 8 [58000/60000 (97%)]\t1.523527\n",
            "\n",
            "Test set: Average loss:  0.0149, Accuracy 9703/10000 (97%\n",
            ")\n",
            "Train epoch: 9 [0/60000 (0%)]\t1.525239\n",
            "Train epoch: 9 [2000/60000 (3%)]\t1.551127\n",
            "Train epoch: 9 [4000/60000 (7%)]\t1.553169\n",
            "Train epoch: 9 [6000/60000 (10%)]\t1.492318\n",
            "Train epoch: 9 [8000/60000 (13%)]\t1.549198\n",
            "Train epoch: 9 [10000/60000 (17%)]\t1.523057\n",
            "Train epoch: 9 [12000/60000 (20%)]\t1.546509\n",
            "Train epoch: 9 [14000/60000 (23%)]\t1.539460\n",
            "Train epoch: 9 [16000/60000 (27%)]\t1.533159\n",
            "Train epoch: 9 [18000/60000 (30%)]\t1.567002\n",
            "Train epoch: 9 [20000/60000 (33%)]\t1.519410\n",
            "Train epoch: 9 [22000/60000 (37%)]\t1.552354\n",
            "Train epoch: 9 [24000/60000 (40%)]\t1.511771\n",
            "Train epoch: 9 [26000/60000 (43%)]\t1.549529\n",
            "Train epoch: 9 [28000/60000 (47%)]\t1.541573\n",
            "Train epoch: 9 [30000/60000 (50%)]\t1.511987\n",
            "Train epoch: 9 [32000/60000 (53%)]\t1.528630\n",
            "Train epoch: 9 [34000/60000 (57%)]\t1.496010\n",
            "Train epoch: 9 [36000/60000 (60%)]\t1.521032\n",
            "Train epoch: 9 [38000/60000 (63%)]\t1.526586\n",
            "Train epoch: 9 [40000/60000 (67%)]\t1.551898\n",
            "Train epoch: 9 [42000/60000 (70%)]\t1.476409\n",
            "Train epoch: 9 [44000/60000 (73%)]\t1.541019\n",
            "Train epoch: 9 [46000/60000 (77%)]\t1.532479\n",
            "Train epoch: 9 [48000/60000 (80%)]\t1.512555\n",
            "Train epoch: 9 [50000/60000 (83%)]\t1.537775\n",
            "Train epoch: 9 [52000/60000 (87%)]\t1.541142\n",
            "Train epoch: 9 [54000/60000 (90%)]\t1.572098\n",
            "Train epoch: 9 [56000/60000 (93%)]\t1.497166\n",
            "Train epoch: 9 [58000/60000 (97%)]\t1.537360\n",
            "\n",
            "Test set: Average loss:  0.0149, Accuracy 9726/10000 (97%\n",
            ")\n",
            "Train epoch: 10 [0/60000 (0%)]\t1.523296\n",
            "Train epoch: 10 [2000/60000 (3%)]\t1.538367\n",
            "Train epoch: 10 [4000/60000 (7%)]\t1.551542\n",
            "Train epoch: 10 [6000/60000 (10%)]\t1.489262\n",
            "Train epoch: 10 [8000/60000 (13%)]\t1.584125\n",
            "Train epoch: 10 [10000/60000 (17%)]\t1.553009\n",
            "Train epoch: 10 [12000/60000 (20%)]\t1.546034\n",
            "Train epoch: 10 [14000/60000 (23%)]\t1.562271\n",
            "Train epoch: 10 [16000/60000 (27%)]\t1.530686\n",
            "Train epoch: 10 [18000/60000 (30%)]\t1.511234\n",
            "Train epoch: 10 [20000/60000 (33%)]\t1.537641\n",
            "Train epoch: 10 [22000/60000 (37%)]\t1.527833\n",
            "Train epoch: 10 [24000/60000 (40%)]\t1.563492\n",
            "Train epoch: 10 [26000/60000 (43%)]\t1.574580\n",
            "Train epoch: 10 [28000/60000 (47%)]\t1.556831\n",
            "Train epoch: 10 [30000/60000 (50%)]\t1.502304\n",
            "Train epoch: 10 [32000/60000 (53%)]\t1.537552\n",
            "Train epoch: 10 [34000/60000 (57%)]\t1.510426\n",
            "Train epoch: 10 [36000/60000 (60%)]\t1.540299\n",
            "Train epoch: 10 [38000/60000 (63%)]\t1.506418\n",
            "Train epoch: 10 [40000/60000 (67%)]\t1.481879\n",
            "Train epoch: 10 [42000/60000 (70%)]\t1.537360\n",
            "Train epoch: 10 [44000/60000 (73%)]\t1.541118\n",
            "Train epoch: 10 [46000/60000 (77%)]\t1.529574\n",
            "Train epoch: 10 [48000/60000 (80%)]\t1.513503\n",
            "Train epoch: 10 [50000/60000 (83%)]\t1.531216\n",
            "Train epoch: 10 [52000/60000 (87%)]\t1.538877\n",
            "Train epoch: 10 [54000/60000 (90%)]\t1.515623\n",
            "Train epoch: 10 [56000/60000 (93%)]\t1.515522\n",
            "Train epoch: 10 [58000/60000 (97%)]\t1.471360\n",
            "\n",
            "Test set: Average loss:  0.0149, Accuracy 9727/10000 (97%\n",
            ")\n"
          ]
        }
      ]
    },
    {
      "cell_type": "code",
      "source": [
        "model.eval()\n",
        "data, target = test_data[0]\n",
        "data = data.unsqueeze(0).to(device)\n",
        "output = model(data)\n",
        "prediction = output.argmax(dim = 1, keepdim = True).item()\n",
        "print(f\"Prediction: {prediction}\")\n",
        "image = data.squeeze(0).squeeze(0).cpu().numpy()\n",
        "plt.imshow(image, cmap = \"gray\")\n",
        "plt.show()"
      ],
      "metadata": {
        "colab": {
          "base_uri": "https://localhost:8080/",
          "height": 485
        },
        "id": "47LeXMNL72SF",
        "outputId": "59a69df2-1791-4bc7-cfe0-c002c7261819"
      },
      "execution_count": 13,
      "outputs": [
        {
          "output_type": "stream",
          "name": "stderr",
          "text": [
            "<ipython-input-7-da121ee6bd6c>:18: UserWarning: Implicit dimension choice for softmax has been deprecated. Change the call to include dim=X as an argument.\n",
            "  return F.softmax(x)\n"
          ]
        },
        {
          "output_type": "stream",
          "name": "stdout",
          "text": [
            "Prediction: 7\n"
          ]
        },
        {
          "output_type": "display_data",
          "data": {
            "text/plain": [
              "<Figure size 640x480 with 1 Axes>"
            ],
            "image/png": "[encoded data removed]"
          },
          "metadata": {}
        }
      ]
    },
    {
      "cell_type": "code",
      "source": [
        "test()"
      ],
      "metadata": {
        "id": "HOWsiXirF0Jk",
        "outputId": "bf94a55d-f3a6-45da-8238-e1b35eb83c1e",
        "colab": {
          "base_uri": "https://localhost:8080/"
        }
      },
      "execution_count": 14,
      "outputs": [
        {
          "output_type": "stream",
          "name": "stderr",
          "text": [
            "<ipython-input-7-da121ee6bd6c>:18: UserWarning: Implicit dimension choice for softmax has been deprecated. Change the call to include dim=X as an argument.\n",
            "  return F.softmax(x)\n"
          ]
        },
        {
          "output_type": "stream",
          "name": "stdout",
          "text": [
            "\n",
            "Test set: Average loss:  0.0149, Accuracy 9727/10000 (97%\n",
            ")\n"
          ]
        }
      ]
    }
  ]
}